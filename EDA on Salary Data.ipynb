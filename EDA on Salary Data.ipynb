{
 "cells": [
  {
   "cell_type": "code",
   "execution_count": 119,
   "metadata": {},
   "outputs": [],
   "source": [
    "import pandas as pd\n",
    "import numpy as np\n",
    "import seaborn as sns\n",
    "import matplotlib.pyplot as plt"
   ]
  },
  {
   "cell_type": "code",
   "execution_count": 120,
   "metadata": {},
   "outputs": [],
   "source": [
    "df=pd.read_csv(r\"C:\\Users\\HP\\Downloads\\archive (7)\\salaries.csv\",header=0)"
   ]
  },
  {
   "cell_type": "code",
   "execution_count": 121,
   "metadata": {},
   "outputs": [
    {
     "data": {
      "text/html": [
       "<div>\n",
       "<style scoped>\n",
       "    .dataframe tbody tr th:only-of-type {\n",
       "        vertical-align: middle;\n",
       "    }\n",
       "\n",
       "    .dataframe tbody tr th {\n",
       "        vertical-align: top;\n",
       "    }\n",
       "\n",
       "    .dataframe thead th {\n",
       "        text-align: right;\n",
       "    }\n",
       "</style>\n",
       "<table border=\"1\" class=\"dataframe\">\n",
       "  <thead>\n",
       "    <tr style=\"text-align: right;\">\n",
       "      <th></th>\n",
       "      <th>work_year</th>\n",
       "      <th>experience_level</th>\n",
       "      <th>employment_type</th>\n",
       "      <th>job_title</th>\n",
       "      <th>salary</th>\n",
       "      <th>salary_currency</th>\n",
       "      <th>salary_in_usd</th>\n",
       "      <th>employee_residence</th>\n",
       "      <th>remote_ratio</th>\n",
       "      <th>company_location</th>\n",
       "      <th>company_size</th>\n",
       "    </tr>\n",
       "  </thead>\n",
       "  <tbody>\n",
       "    <tr>\n",
       "      <th>0</th>\n",
       "      <td>2022</td>\n",
       "      <td>MI</td>\n",
       "      <td>FT</td>\n",
       "      <td>Machine Learning Engineer</td>\n",
       "      <td>130000</td>\n",
       "      <td>USD</td>\n",
       "      <td>130000</td>\n",
       "      <td>US</td>\n",
       "      <td>0</td>\n",
       "      <td>US</td>\n",
       "      <td>M</td>\n",
       "    </tr>\n",
       "    <tr>\n",
       "      <th>1</th>\n",
       "      <td>2022</td>\n",
       "      <td>MI</td>\n",
       "      <td>FT</td>\n",
       "      <td>Machine Learning Engineer</td>\n",
       "      <td>90000</td>\n",
       "      <td>USD</td>\n",
       "      <td>90000</td>\n",
       "      <td>US</td>\n",
       "      <td>0</td>\n",
       "      <td>US</td>\n",
       "      <td>M</td>\n",
       "    </tr>\n",
       "    <tr>\n",
       "      <th>2</th>\n",
       "      <td>2022</td>\n",
       "      <td>MI</td>\n",
       "      <td>FT</td>\n",
       "      <td>Data Scientist</td>\n",
       "      <td>120000</td>\n",
       "      <td>USD</td>\n",
       "      <td>120000</td>\n",
       "      <td>US</td>\n",
       "      <td>100</td>\n",
       "      <td>US</td>\n",
       "      <td>M</td>\n",
       "    </tr>\n",
       "    <tr>\n",
       "      <th>3</th>\n",
       "      <td>2022</td>\n",
       "      <td>MI</td>\n",
       "      <td>FT</td>\n",
       "      <td>Data Scientist</td>\n",
       "      <td>100000</td>\n",
       "      <td>USD</td>\n",
       "      <td>100000</td>\n",
       "      <td>US</td>\n",
       "      <td>100</td>\n",
       "      <td>US</td>\n",
       "      <td>M</td>\n",
       "    </tr>\n",
       "    <tr>\n",
       "      <th>4</th>\n",
       "      <td>2022</td>\n",
       "      <td>MI</td>\n",
       "      <td>FT</td>\n",
       "      <td>Data Scientist</td>\n",
       "      <td>85000</td>\n",
       "      <td>USD</td>\n",
       "      <td>85000</td>\n",
       "      <td>US</td>\n",
       "      <td>100</td>\n",
       "      <td>US</td>\n",
       "      <td>M</td>\n",
       "    </tr>\n",
       "  </tbody>\n",
       "</table>\n",
       "</div>"
      ],
      "text/plain": [
       "   work_year experience_level employment_type                  job_title  \\\n",
       "0       2022               MI              FT  Machine Learning Engineer   \n",
       "1       2022               MI              FT  Machine Learning Engineer   \n",
       "2       2022               MI              FT             Data Scientist   \n",
       "3       2022               MI              FT             Data Scientist   \n",
       "4       2022               MI              FT             Data Scientist   \n",
       "\n",
       "   salary salary_currency  salary_in_usd employee_residence  remote_ratio  \\\n",
       "0  130000             USD         130000                 US             0   \n",
       "1   90000             USD          90000                 US             0   \n",
       "2  120000             USD         120000                 US           100   \n",
       "3  100000             USD         100000                 US           100   \n",
       "4   85000             USD          85000                 US           100   \n",
       "\n",
       "  company_location company_size  \n",
       "0               US            M  \n",
       "1               US            M  \n",
       "2               US            M  \n",
       "3               US            M  \n",
       "4               US            M  "
      ]
     },
     "execution_count": 121,
     "metadata": {},
     "output_type": "execute_result"
    }
   ],
   "source": [
    "#head means to display the top rows from the data \n",
    "df.head()"
   ]
  },
  {
   "cell_type": "code",
   "execution_count": 122,
   "metadata": {},
   "outputs": [
    {
     "data": {
      "text/plain": [
       "work_year              int64\n",
       "experience_level      object\n",
       "employment_type       object\n",
       "job_title             object\n",
       "salary                 int64\n",
       "salary_currency       object\n",
       "salary_in_usd          int64\n",
       "employee_residence    object\n",
       "remote_ratio           int64\n",
       "company_location      object\n",
       "company_size          object\n",
       "dtype: object"
      ]
     },
     "execution_count": 122,
     "metadata": {},
     "output_type": "execute_result"
    }
   ],
   "source": [
    "# to know the data types of the column\n",
    "df.dtypes"
   ]
  },
  {
   "cell_type": "code",
   "execution_count": 123,
   "metadata": {},
   "outputs": [
    {
     "data": {
      "text/plain": [
       "(1332, 11)"
      ]
     },
     "execution_count": 123,
     "metadata": {},
     "output_type": "execute_result"
    }
   ],
   "source": [
    "#1st data shows rows and another shows columns \n",
    "df.shape"
   ]
  },
  {
   "cell_type": "code",
   "execution_count": 124,
   "metadata": {},
   "outputs": [
    {
     "name": "stdout",
     "output_type": "stream",
     "text": [
      "<class 'pandas.core.frame.DataFrame'>\n",
      "RangeIndex: 1332 entries, 0 to 1331\n",
      "Data columns (total 11 columns):\n",
      " #   Column              Non-Null Count  Dtype \n",
      "---  ------              --------------  ----- \n",
      " 0   work_year           1332 non-null   int64 \n",
      " 1   experience_level    1332 non-null   object\n",
      " 2   employment_type     1332 non-null   object\n",
      " 3   job_title           1332 non-null   object\n",
      " 4   salary              1332 non-null   int64 \n",
      " 5   salary_currency     1332 non-null   object\n",
      " 6   salary_in_usd       1332 non-null   int64 \n",
      " 7   employee_residence  1332 non-null   object\n",
      " 8   remote_ratio        1332 non-null   int64 \n",
      " 9   company_location    1332 non-null   object\n",
      " 10  company_size        1332 non-null   object\n",
      "dtypes: int64(4), object(7)\n",
      "memory usage: 114.6+ KB\n"
     ]
    }
   ],
   "source": [
    "df.info()"
   ]
  },
  {
   "cell_type": "code",
   "execution_count": 125,
   "metadata": {},
   "outputs": [
    {
     "data": {
      "text/plain": [
       "work_year             0\n",
       "experience_level      0\n",
       "employment_type       0\n",
       "job_title             0\n",
       "salary                0\n",
       "salary_currency       0\n",
       "salary_in_usd         0\n",
       "employee_residence    0\n",
       "remote_ratio          0\n",
       "company_location      0\n",
       "company_size          0\n",
       "dtype: int64"
      ]
     },
     "execution_count": 125,
     "metadata": {},
     "output_type": "execute_result"
    }
   ],
   "source": [
    "#to check whether there is any missing value or not\n",
    "df.isnull().sum()"
   ]
  },
  {
   "cell_type": "code",
   "execution_count": 126,
   "metadata": {},
   "outputs": [
    {
     "data": {
      "text/html": [
       "<div>\n",
       "<style scoped>\n",
       "    .dataframe tbody tr th:only-of-type {\n",
       "        vertical-align: middle;\n",
       "    }\n",
       "\n",
       "    .dataframe tbody tr th {\n",
       "        vertical-align: top;\n",
       "    }\n",
       "\n",
       "    .dataframe thead th {\n",
       "        text-align: right;\n",
       "    }\n",
       "</style>\n",
       "<table border=\"1\" class=\"dataframe\">\n",
       "  <thead>\n",
       "    <tr style=\"text-align: right;\">\n",
       "      <th></th>\n",
       "      <th>work_year</th>\n",
       "      <th>experience_level</th>\n",
       "      <th>employment_type</th>\n",
       "      <th>salary</th>\n",
       "      <th>salary_currency</th>\n",
       "      <th>salary_in_usd</th>\n",
       "      <th>employee_residence</th>\n",
       "      <th>remote_ratio</th>\n",
       "      <th>company_location</th>\n",
       "      <th>company_size</th>\n",
       "    </tr>\n",
       "    <tr>\n",
       "      <th>job_title</th>\n",
       "      <th></th>\n",
       "      <th></th>\n",
       "      <th></th>\n",
       "      <th></th>\n",
       "      <th></th>\n",
       "      <th></th>\n",
       "      <th></th>\n",
       "      <th></th>\n",
       "      <th></th>\n",
       "      <th></th>\n",
       "    </tr>\n",
       "  </thead>\n",
       "  <tbody>\n",
       "    <tr>\n",
       "      <th>3D Computer Vision Researcher</th>\n",
       "      <td>2021</td>\n",
       "      <td>SE</td>\n",
       "      <td>FT</td>\n",
       "      <td>5000</td>\n",
       "      <td>USD</td>\n",
       "      <td>5000</td>\n",
       "      <td>US</td>\n",
       "      <td>100</td>\n",
       "      <td>US</td>\n",
       "      <td>L</td>\n",
       "    </tr>\n",
       "    <tr>\n",
       "      <th>AI Scientist</th>\n",
       "      <td>2022</td>\n",
       "      <td>EN</td>\n",
       "      <td>FT</td>\n",
       "      <td>50000</td>\n",
       "      <td>USD</td>\n",
       "      <td>50000</td>\n",
       "      <td>US</td>\n",
       "      <td>100</td>\n",
       "      <td>US</td>\n",
       "      <td>M</td>\n",
       "    </tr>\n",
       "    <tr>\n",
       "      <th>Analytics Engineer</th>\n",
       "      <td>2022</td>\n",
       "      <td>SE</td>\n",
       "      <td>FT</td>\n",
       "      <td>84000</td>\n",
       "      <td>GBP</td>\n",
       "      <td>104038</td>\n",
       "      <td>GB</td>\n",
       "      <td>0</td>\n",
       "      <td>GB</td>\n",
       "      <td>M</td>\n",
       "    </tr>\n",
       "    <tr>\n",
       "      <th>Applied Data Scientist</th>\n",
       "      <td>2022</td>\n",
       "      <td>EN</td>\n",
       "      <td>FT</td>\n",
       "      <td>50000</td>\n",
       "      <td>USD</td>\n",
       "      <td>50000</td>\n",
       "      <td>AT</td>\n",
       "      <td>50</td>\n",
       "      <td>AT</td>\n",
       "      <td>M</td>\n",
       "    </tr>\n",
       "    <tr>\n",
       "      <th>Applied Machine Learning Scientist</th>\n",
       "      <td>2022</td>\n",
       "      <td>SE</td>\n",
       "      <td>FT</td>\n",
       "      <td>108000</td>\n",
       "      <td>USD</td>\n",
       "      <td>108000</td>\n",
       "      <td>US</td>\n",
       "      <td>0</td>\n",
       "      <td>US</td>\n",
       "      <td>L</td>\n",
       "    </tr>\n",
       "    <tr>\n",
       "      <th>...</th>\n",
       "      <td>...</td>\n",
       "      <td>...</td>\n",
       "      <td>...</td>\n",
       "      <td>...</td>\n",
       "      <td>...</td>\n",
       "      <td>...</td>\n",
       "      <td>...</td>\n",
       "      <td>...</td>\n",
       "      <td>...</td>\n",
       "      <td>...</td>\n",
       "    </tr>\n",
       "    <tr>\n",
       "      <th>Product Data Analyst</th>\n",
       "      <td>2022</td>\n",
       "      <td>MI</td>\n",
       "      <td>FT</td>\n",
       "      <td>140000</td>\n",
       "      <td>USD</td>\n",
       "      <td>140000</td>\n",
       "      <td>US</td>\n",
       "      <td>100</td>\n",
       "      <td>US</td>\n",
       "      <td>M</td>\n",
       "    </tr>\n",
       "    <tr>\n",
       "      <th>Product Data Scientist</th>\n",
       "      <td>2022</td>\n",
       "      <td>SE</td>\n",
       "      <td>FT</td>\n",
       "      <td>8000</td>\n",
       "      <td>USD</td>\n",
       "      <td>8000</td>\n",
       "      <td>IN</td>\n",
       "      <td>100</td>\n",
       "      <td>SG</td>\n",
       "      <td>L</td>\n",
       "    </tr>\n",
       "    <tr>\n",
       "      <th>Research Engineer</th>\n",
       "      <td>2022</td>\n",
       "      <td>MI</td>\n",
       "      <td>FT</td>\n",
       "      <td>240000</td>\n",
       "      <td>USD</td>\n",
       "      <td>240000</td>\n",
       "      <td>US</td>\n",
       "      <td>100</td>\n",
       "      <td>US</td>\n",
       "      <td>M</td>\n",
       "    </tr>\n",
       "    <tr>\n",
       "      <th>Research Scientist</th>\n",
       "      <td>2022</td>\n",
       "      <td>MI</td>\n",
       "      <td>FT</td>\n",
       "      <td>120000</td>\n",
       "      <td>EUR</td>\n",
       "      <td>126344</td>\n",
       "      <td>DE</td>\n",
       "      <td>0</td>\n",
       "      <td>DE</td>\n",
       "      <td>S</td>\n",
       "    </tr>\n",
       "    <tr>\n",
       "      <th>Staff Data Scientist</th>\n",
       "      <td>2021</td>\n",
       "      <td>SE</td>\n",
       "      <td>CT</td>\n",
       "      <td>105000</td>\n",
       "      <td>USD</td>\n",
       "      <td>105000</td>\n",
       "      <td>US</td>\n",
       "      <td>100</td>\n",
       "      <td>US</td>\n",
       "      <td>M</td>\n",
       "    </tr>\n",
       "  </tbody>\n",
       "</table>\n",
       "<p>64 rows × 10 columns</p>\n",
       "</div>"
      ],
      "text/plain": [
       "                                    work_year experience_level  \\\n",
       "job_title                                                        \n",
       "3D Computer Vision Researcher            2021               SE   \n",
       "AI Scientist                             2022               EN   \n",
       "Analytics Engineer                       2022               SE   \n",
       "Applied Data Scientist                   2022               EN   \n",
       "Applied Machine Learning Scientist       2022               SE   \n",
       "...                                       ...              ...   \n",
       "Product Data Analyst                     2022               MI   \n",
       "Product Data Scientist                   2022               SE   \n",
       "Research Engineer                        2022               MI   \n",
       "Research Scientist                       2022               MI   \n",
       "Staff Data Scientist                     2021               SE   \n",
       "\n",
       "                                   employment_type  salary salary_currency  \\\n",
       "job_title                                                                    \n",
       "3D Computer Vision Researcher                   FT    5000             USD   \n",
       "AI Scientist                                    FT   50000             USD   \n",
       "Analytics Engineer                              FT   84000             GBP   \n",
       "Applied Data Scientist                          FT   50000             USD   \n",
       "Applied Machine Learning Scientist              FT  108000             USD   \n",
       "...                                            ...     ...             ...   \n",
       "Product Data Analyst                            FT  140000             USD   \n",
       "Product Data Scientist                          FT    8000             USD   \n",
       "Research Engineer                               FT  240000             USD   \n",
       "Research Scientist                              FT  120000             EUR   \n",
       "Staff Data Scientist                            CT  105000             USD   \n",
       "\n",
       "                                    salary_in_usd employee_residence  \\\n",
       "job_title                                                              \n",
       "3D Computer Vision Researcher                5000                 US   \n",
       "AI Scientist                                50000                 US   \n",
       "Analytics Engineer                         104038                 GB   \n",
       "Applied Data Scientist                      50000                 AT   \n",
       "Applied Machine Learning Scientist         108000                 US   \n",
       "...                                           ...                ...   \n",
       "Product Data Analyst                       140000                 US   \n",
       "Product Data Scientist                       8000                 IN   \n",
       "Research Engineer                          240000                 US   \n",
       "Research Scientist                         126344                 DE   \n",
       "Staff Data Scientist                       105000                 US   \n",
       "\n",
       "                                    remote_ratio company_location company_size  \n",
       "job_title                                                                       \n",
       "3D Computer Vision Researcher                100               US            L  \n",
       "AI Scientist                                 100               US            M  \n",
       "Analytics Engineer                             0               GB            M  \n",
       "Applied Data Scientist                        50               AT            M  \n",
       "Applied Machine Learning Scientist             0               US            L  \n",
       "...                                          ...              ...          ...  \n",
       "Product Data Analyst                         100               US            M  \n",
       "Product Data Scientist                       100               SG            L  \n",
       "Research Engineer                            100               US            M  \n",
       "Research Scientist                             0               DE            S  \n",
       "Staff Data Scientist                         100               US            M  \n",
       "\n",
       "[64 rows x 10 columns]"
      ]
     },
     "execution_count": 126,
     "metadata": {},
     "output_type": "execute_result"
    }
   ],
   "source": [
    "#printing the first value in each group \n",
    "d=df.groupby(['job_title'])\n",
    "d.first()"
   ]
  },
  {
   "cell_type": "code",
   "execution_count": 127,
   "metadata": {},
   "outputs": [
    {
     "data": {
      "text/html": [
       "<div>\n",
       "<style scoped>\n",
       "    .dataframe tbody tr th:only-of-type {\n",
       "        vertical-align: middle;\n",
       "    }\n",
       "\n",
       "    .dataframe tbody tr th {\n",
       "        vertical-align: top;\n",
       "    }\n",
       "\n",
       "    .dataframe thead th {\n",
       "        text-align: right;\n",
       "    }\n",
       "</style>\n",
       "<table border=\"1\" class=\"dataframe\">\n",
       "  <thead>\n",
       "    <tr style=\"text-align: right;\">\n",
       "      <th></th>\n",
       "      <th>work_year</th>\n",
       "      <th>salary</th>\n",
       "      <th>salary_in_usd</th>\n",
       "      <th>remote_ratio</th>\n",
       "    </tr>\n",
       "  </thead>\n",
       "  <tbody>\n",
       "    <tr>\n",
       "      <th>count</th>\n",
       "      <td>1332.000000</td>\n",
       "      <td>1.332000e+03</td>\n",
       "      <td>1332.000000</td>\n",
       "      <td>1332.000000</td>\n",
       "    </tr>\n",
       "    <tr>\n",
       "      <th>mean</th>\n",
       "      <td>2021.716216</td>\n",
       "      <td>2.377124e+05</td>\n",
       "      <td>123374.658408</td>\n",
       "      <td>63.851351</td>\n",
       "    </tr>\n",
       "    <tr>\n",
       "      <th>std</th>\n",
       "      <td>0.562228</td>\n",
       "      <td>1.077369e+06</td>\n",
       "      <td>65945.872172</td>\n",
       "      <td>45.263587</td>\n",
       "    </tr>\n",
       "    <tr>\n",
       "      <th>min</th>\n",
       "      <td>2020.000000</td>\n",
       "      <td>2.324000e+03</td>\n",
       "      <td>2324.000000</td>\n",
       "      <td>0.000000</td>\n",
       "    </tr>\n",
       "    <tr>\n",
       "      <th>25%</th>\n",
       "      <td>2022.000000</td>\n",
       "      <td>8.000000e+04</td>\n",
       "      <td>75593.000000</td>\n",
       "      <td>0.000000</td>\n",
       "    </tr>\n",
       "    <tr>\n",
       "      <th>50%</th>\n",
       "      <td>2022.000000</td>\n",
       "      <td>1.300000e+05</td>\n",
       "      <td>120000.000000</td>\n",
       "      <td>100.000000</td>\n",
       "    </tr>\n",
       "    <tr>\n",
       "      <th>75%</th>\n",
       "      <td>2022.000000</td>\n",
       "      <td>1.751000e+05</td>\n",
       "      <td>164997.000000</td>\n",
       "      <td>100.000000</td>\n",
       "    </tr>\n",
       "    <tr>\n",
       "      <th>max</th>\n",
       "      <td>2022.000000</td>\n",
       "      <td>3.040000e+07</td>\n",
       "      <td>600000.000000</td>\n",
       "      <td>100.000000</td>\n",
       "    </tr>\n",
       "  </tbody>\n",
       "</table>\n",
       "</div>"
      ],
      "text/plain": [
       "         work_year        salary  salary_in_usd  remote_ratio\n",
       "count  1332.000000  1.332000e+03    1332.000000   1332.000000\n",
       "mean   2021.716216  2.377124e+05  123374.658408     63.851351\n",
       "std       0.562228  1.077369e+06   65945.872172     45.263587\n",
       "min    2020.000000  2.324000e+03    2324.000000      0.000000\n",
       "25%    2022.000000  8.000000e+04   75593.000000      0.000000\n",
       "50%    2022.000000  1.300000e+05  120000.000000    100.000000\n",
       "75%    2022.000000  1.751000e+05  164997.000000    100.000000\n",
       "max    2022.000000  3.040000e+07  600000.000000    100.000000"
      ]
     },
     "execution_count": 127,
     "metadata": {},
     "output_type": "execute_result"
    }
   ],
   "source": [
    "#descriptive statistics of the dataframe\n",
    "df.describe()"
   ]
  },
  {
   "cell_type": "code",
   "execution_count": 128,
   "metadata": {},
   "outputs": [
    {
     "data": {
      "text/html": [
       "<div>\n",
       "<style scoped>\n",
       "    .dataframe tbody tr th:only-of-type {\n",
       "        vertical-align: middle;\n",
       "    }\n",
       "\n",
       "    .dataframe tbody tr th {\n",
       "        vertical-align: top;\n",
       "    }\n",
       "\n",
       "    .dataframe thead th {\n",
       "        text-align: right;\n",
       "    }\n",
       "</style>\n",
       "<table border=\"1\" class=\"dataframe\">\n",
       "  <thead>\n",
       "    <tr style=\"text-align: right;\">\n",
       "      <th></th>\n",
       "      <th>work_year</th>\n",
       "      <th>experience_level</th>\n",
       "      <th>employment_type</th>\n",
       "      <th>job_title</th>\n",
       "      <th>salary</th>\n",
       "      <th>salary_currency</th>\n",
       "      <th>salary_in_usd</th>\n",
       "      <th>employee_residence</th>\n",
       "      <th>remote_ratio</th>\n",
       "      <th>company_location</th>\n",
       "      <th>company_size</th>\n",
       "    </tr>\n",
       "  </thead>\n",
       "  <tbody>\n",
       "    <tr>\n",
       "      <th>0</th>\n",
       "      <td>2022</td>\n",
       "      <td>Intermediate</td>\n",
       "      <td>Full-time</td>\n",
       "      <td>Machine Learning Engineer</td>\n",
       "      <td>130000</td>\n",
       "      <td>USD</td>\n",
       "      <td>130000</td>\n",
       "      <td>US</td>\n",
       "      <td>WFO</td>\n",
       "      <td>US</td>\n",
       "      <td>Medium</td>\n",
       "    </tr>\n",
       "    <tr>\n",
       "      <th>1</th>\n",
       "      <td>2022</td>\n",
       "      <td>Intermediate</td>\n",
       "      <td>Full-time</td>\n",
       "      <td>Machine Learning Engineer</td>\n",
       "      <td>90000</td>\n",
       "      <td>USD</td>\n",
       "      <td>90000</td>\n",
       "      <td>US</td>\n",
       "      <td>WFO</td>\n",
       "      <td>US</td>\n",
       "      <td>Medium</td>\n",
       "    </tr>\n",
       "    <tr>\n",
       "      <th>2</th>\n",
       "      <td>2022</td>\n",
       "      <td>Intermediate</td>\n",
       "      <td>Full-time</td>\n",
       "      <td>Data Scientist</td>\n",
       "      <td>120000</td>\n",
       "      <td>USD</td>\n",
       "      <td>120000</td>\n",
       "      <td>US</td>\n",
       "      <td>WFH</td>\n",
       "      <td>US</td>\n",
       "      <td>Medium</td>\n",
       "    </tr>\n",
       "    <tr>\n",
       "      <th>3</th>\n",
       "      <td>2022</td>\n",
       "      <td>Intermediate</td>\n",
       "      <td>Full-time</td>\n",
       "      <td>Data Scientist</td>\n",
       "      <td>100000</td>\n",
       "      <td>USD</td>\n",
       "      <td>100000</td>\n",
       "      <td>US</td>\n",
       "      <td>WFH</td>\n",
       "      <td>US</td>\n",
       "      <td>Medium</td>\n",
       "    </tr>\n",
       "    <tr>\n",
       "      <th>4</th>\n",
       "      <td>2022</td>\n",
       "      <td>Intermediate</td>\n",
       "      <td>Full-time</td>\n",
       "      <td>Data Scientist</td>\n",
       "      <td>85000</td>\n",
       "      <td>USD</td>\n",
       "      <td>85000</td>\n",
       "      <td>US</td>\n",
       "      <td>WFH</td>\n",
       "      <td>US</td>\n",
       "      <td>Medium</td>\n",
       "    </tr>\n",
       "  </tbody>\n",
       "</table>\n",
       "</div>"
      ],
      "text/plain": [
       "   work_year experience_level employment_type                  job_title  \\\n",
       "0       2022     Intermediate       Full-time  Machine Learning Engineer   \n",
       "1       2022     Intermediate       Full-time  Machine Learning Engineer   \n",
       "2       2022     Intermediate       Full-time             Data Scientist   \n",
       "3       2022     Intermediate       Full-time             Data Scientist   \n",
       "4       2022     Intermediate       Full-time             Data Scientist   \n",
       "\n",
       "   salary salary_currency  salary_in_usd employee_residence remote_ratio  \\\n",
       "0  130000             USD         130000                 US          WFO   \n",
       "1   90000             USD          90000                 US          WFO   \n",
       "2  120000             USD         120000                 US          WFH   \n",
       "3  100000             USD         100000                 US          WFH   \n",
       "4   85000             USD          85000                 US          WFH   \n",
       "\n",
       "  company_location company_size  \n",
       "0               US       Medium  \n",
       "1               US       Medium  \n",
       "2               US       Medium  \n",
       "3               US       Medium  \n",
       "4               US       Medium  "
      ]
     },
     "execution_count": 128,
     "metadata": {},
     "output_type": "execute_result"
    }
   ],
   "source": [
    "#assigning full form by using map function\n",
    "df['employment_type']=df['employment_type'].map({\n",
    "    'PT':'Part-time',\n",
    "    'FT':'Full-time',\n",
    "    'CT':'Contract',\n",
    "    'FL':'Freelance'\n",
    "})\n",
    "df['experience_level']=df['experience_level'].map({\n",
    "    'EN':'Junior',\n",
    "    'MI':'Intermediate',\n",
    "    'SE':'Expert',\n",
    "    'EX':'Director'\n",
    "})\n",
    "df['remote_ratio']=df['remote_ratio'].map({\n",
    "    0:'WFO',\n",
    "    50:'Hybrid',\n",
    "    100:'WFH'\n",
    "})\n",
    "df['company_size']=df['company_size'].map({\n",
    "    'S':'Startup',\n",
    "    'M':'Medium',\n",
    "    'L':'Big Enterprise'\n",
    "})\n",
    "df.head()"
   ]
  },
  {
   "cell_type": "code",
   "execution_count": 129,
   "metadata": {},
   "outputs": [
    {
     "data": {
      "text/plain": [
       "array(['USD', 'EUR', 'GBP', 'CAD', 'INR', 'AUD', 'CZK', 'BRL', 'DKK',\n",
       "       'SGD', 'CNY', 'PLN', 'CHF', 'JPY', 'HUF', 'MXN', 'TRY', 'CLP'],\n",
       "      dtype=object)"
      ]
     },
     "execution_count": 129,
     "metadata": {},
     "output_type": "execute_result"
    }
   ],
   "source": [
    "#employees earning in various currency\n",
    "df.salary_currency.unique()"
   ]
  },
  {
   "cell_type": "code",
   "execution_count": 130,
   "metadata": {},
   "outputs": [
    {
     "data": {
      "text/plain": [
       "array(['US', 'ES', 'GB', 'FR', 'CA', 'MX', 'BR', 'IN', 'AU', 'SG', 'PT',\n",
       "       'DE', 'NG', 'CZ', 'TR', 'PR', 'FI', 'AS', 'TH', 'NL', 'GR', 'DK',\n",
       "       'BO', 'PH', 'AL', 'AR', 'BE', 'ID', 'AT', 'EG', 'IT', 'AE', 'IE',\n",
       "       'LU', 'SI', 'MY', 'EE', 'PL', 'HN', 'CH', 'PK', 'JP', 'DZ', 'RO',\n",
       "       'IQ', 'RU', 'UA', 'CN', 'HU', 'KE', 'CO', 'NZ', 'IR', 'CL', 'MD',\n",
       "       'VN', 'HR', 'IL', 'MT'], dtype=object)"
      ]
     },
     "execution_count": 130,
     "metadata": {},
     "output_type": "execute_result"
    }
   ],
   "source": [
    "#employees working from various location \n",
    "df.company_location.unique()"
   ]
  },
  {
   "cell_type": "code",
   "execution_count": 131,
   "metadata": {},
   "outputs": [
    {
     "data": {
      "text/plain": [
       "Medium            898\n",
       "Big Enterprise    322\n",
       "Startup           112\n",
       "Name: company_size, dtype: int64"
      ]
     },
     "execution_count": 131,
     "metadata": {},
     "output_type": "execute_result"
    }
   ],
   "source": [
    "#Maximum number of employees are working in Medium size company\n",
    "df.company_size.value_counts()"
   ]
  },
  {
   "cell_type": "code",
   "execution_count": 132,
   "metadata": {},
   "outputs": [
    {
     "data": {
      "text/html": [
       "<div>\n",
       "<style scoped>\n",
       "    .dataframe tbody tr th:only-of-type {\n",
       "        vertical-align: middle;\n",
       "    }\n",
       "\n",
       "    .dataframe tbody tr th {\n",
       "        vertical-align: top;\n",
       "    }\n",
       "\n",
       "    .dataframe thead th {\n",
       "        text-align: right;\n",
       "    }\n",
       "</style>\n",
       "<table border=\"1\" class=\"dataframe\">\n",
       "  <thead>\n",
       "    <tr style=\"text-align: right;\">\n",
       "      <th></th>\n",
       "      <th>work_year</th>\n",
       "      <th>experience_level</th>\n",
       "      <th>employment_type</th>\n",
       "      <th>job_title</th>\n",
       "      <th>salary</th>\n",
       "      <th>salary_currency</th>\n",
       "      <th>salary_in_usd</th>\n",
       "      <th>employee_residence</th>\n",
       "      <th>remote_ratio</th>\n",
       "      <th>company_location</th>\n",
       "      <th>company_size</th>\n",
       "    </tr>\n",
       "  </thead>\n",
       "  <tbody>\n",
       "    <tr>\n",
       "      <th>0</th>\n",
       "      <td>2022</td>\n",
       "      <td>Intermediate</td>\n",
       "      <td>Full-time</td>\n",
       "      <td>Machine Learning Engineer</td>\n",
       "      <td>130000</td>\n",
       "      <td>USD</td>\n",
       "      <td>130000</td>\n",
       "      <td>US</td>\n",
       "      <td>WFO</td>\n",
       "      <td>US</td>\n",
       "      <td>Medium</td>\n",
       "    </tr>\n",
       "    <tr>\n",
       "      <th>1</th>\n",
       "      <td>2022</td>\n",
       "      <td>Intermediate</td>\n",
       "      <td>Full-time</td>\n",
       "      <td>Machine Learning Engineer</td>\n",
       "      <td>90000</td>\n",
       "      <td>USD</td>\n",
       "      <td>90000</td>\n",
       "      <td>US</td>\n",
       "      <td>WFO</td>\n",
       "      <td>US</td>\n",
       "      <td>Medium</td>\n",
       "    </tr>\n",
       "    <tr>\n",
       "      <th>2</th>\n",
       "      <td>2022</td>\n",
       "      <td>Intermediate</td>\n",
       "      <td>Full-time</td>\n",
       "      <td>Data Scientist</td>\n",
       "      <td>120000</td>\n",
       "      <td>USD</td>\n",
       "      <td>120000</td>\n",
       "      <td>US</td>\n",
       "      <td>WFH</td>\n",
       "      <td>US</td>\n",
       "      <td>Medium</td>\n",
       "    </tr>\n",
       "    <tr>\n",
       "      <th>3</th>\n",
       "      <td>2022</td>\n",
       "      <td>Intermediate</td>\n",
       "      <td>Full-time</td>\n",
       "      <td>Data Scientist</td>\n",
       "      <td>100000</td>\n",
       "      <td>USD</td>\n",
       "      <td>100000</td>\n",
       "      <td>US</td>\n",
       "      <td>WFH</td>\n",
       "      <td>US</td>\n",
       "      <td>Medium</td>\n",
       "    </tr>\n",
       "    <tr>\n",
       "      <th>4</th>\n",
       "      <td>2022</td>\n",
       "      <td>Intermediate</td>\n",
       "      <td>Full-time</td>\n",
       "      <td>Data Scientist</td>\n",
       "      <td>85000</td>\n",
       "      <td>USD</td>\n",
       "      <td>85000</td>\n",
       "      <td>US</td>\n",
       "      <td>WFH</td>\n",
       "      <td>US</td>\n",
       "      <td>Medium</td>\n",
       "    </tr>\n",
       "  </tbody>\n",
       "</table>\n",
       "</div>"
      ],
      "text/plain": [
       "   work_year experience_level employment_type                  job_title  \\\n",
       "0       2022     Intermediate       Full-time  Machine Learning Engineer   \n",
       "1       2022     Intermediate       Full-time  Machine Learning Engineer   \n",
       "2       2022     Intermediate       Full-time             Data Scientist   \n",
       "3       2022     Intermediate       Full-time             Data Scientist   \n",
       "4       2022     Intermediate       Full-time             Data Scientist   \n",
       "\n",
       "   salary salary_currency  salary_in_usd employee_residence remote_ratio  \\\n",
       "0  130000             USD         130000                 US          WFO   \n",
       "1   90000             USD          90000                 US          WFO   \n",
       "2  120000             USD         120000                 US          WFH   \n",
       "3  100000             USD         100000                 US          WFH   \n",
       "4   85000             USD          85000                 US          WFH   \n",
       "\n",
       "  company_location company_size  \n",
       "0               US       Medium  \n",
       "1               US       Medium  \n",
       "2               US       Medium  \n",
       "3               US       Medium  \n",
       "4               US       Medium  "
      ]
     },
     "execution_count": 132,
     "metadata": {},
     "output_type": "execute_result"
    }
   ],
   "source": [
    "df.head()"
   ]
  },
  {
   "cell_type": "code",
   "execution_count": 133,
   "metadata": {},
   "outputs": [
    {
     "data": {
      "text/plain": [
       "30400000"
      ]
     },
     "execution_count": 133,
     "metadata": {},
     "output_type": "execute_result"
    }
   ],
   "source": [
    "#maximum salary\n",
    "df.salary.max()"
   ]
  },
  {
   "cell_type": "code",
   "execution_count": 134,
   "metadata": {
    "scrolled": true
   },
   "outputs": [
    {
     "name": "stdout",
     "output_type": "stream",
     "text": [
      "[2324, 4000, 5000, 7500, 8000, 8760, 9272, 10000, 12000, 12500, 13400, 14000, 15000, 18000, 19000, 20000, 21000, 21600, 21844, 22000, 22800, 24000, 25000, 27000, 28500, 29000, 30000, 31000, 32000, 32400, 33000, 34000, 35000, 36000, 37000, 37456, 38000, 38400, 39600, 40000, 40300, 40900, 41000, 42000, 43200, 44000, 45000, 45760, 46000, 47000, 48000, 49500, 50000, 51400, 51999, 52000, 52500, 52800, 53000, 54000, 55000, 56000, 57000, 58000, 59000, 60000, 61300, 61500, 62000, 62500, 63000, 63900, 64000, 65000, 65004, 65720, 66000, 66500, 66822, 67000, 68000, 68400, 69000, 69600, 69999, 70000, 70500, 72000, 72500, 73000, 73400, 74000, 75000, 76000, 76760, 77000, 78000, 80000, 81000, 81500, 81666, 82000, 82500, 82900, 83000, 83376, 84000, 84900, 84958, 85000, 85700, 86000, 87000, 88000, 88100, 89200, 90000, 90320, 90700, 91000, 92000, 92250, 93000, 93150, 93700, 95000, 95550, 96000, 97000, 97500, 98000, 98200, 99000, 99050, 99100, 99360, 99450, 99750, 100000, 100800, 101570, 102000, 102100, 103000, 104000, 104300, 104890, 105000, 105400, 105700, 106000, 106260, 106800, 107000, 108000, 108800, 109000, 109280, 110000, 110500, 110600, 110925, 111775, 112000, 112300, 112900, 113000, 113900, 115000, 115360, 115500, 115934, 116000, 116100, 116150, 117000, 118000, 119000, 119300, 120000, 120160, 120500, 120600, 121000, 122000, 122500, 123000, 123400, 124190, 124270, 125000, 125404, 126000, 126500, 127000, 128000, 128875, 129000, 129300, 130000, 130050, 130240, 130500, 130800, 131300, 132000, 132100, 132320, 134000, 135000, 136000, 136100, 136260, 136600, 136620, 136994, 137141, 137400, 138000, 138350, 138600, 138938, 139000, 139600, 139860, 140000, 140100, 140250, 140400, 141300, 141525, 142200, 142800, 144000, 144100, 144200, 144854, 145000, 145300, 146000, 146200, 147000, 147800, 148000, 148500, 148700, 148800, 149040, 150000, 150075, 150260, 151000, 151800, 152000, 152500, 153000, 153600, 154000, 154545, 154600, 155000, 156400, 156600, 156868, 157000, 158000, 158200, 159000, 159200, 159500, 159699, 160000, 160080, 160395, 161000, 161342, 164000, 164996, 165000, 165220, 165400, 166000, 166700, 167000, 167100, 167875, 168000, 169000, 170000, 171000, 172000, 173000, 174000, 175000, 175100, 175950, 176000, 177000, 177600, 178800, 179400, 179775, 180000, 181940, 182000, 182160, 183000, 183600, 184100, 184700, 185000, 185100, 185400, 185800, 185900, 186000, 187200, 188000, 188100, 188700, 189500, 189650, 190000, 190200, 191200, 191475, 192400, 192564, 192600, 193000, 193900, 195000, 195400, 195700, 197000, 198440, 200000, 200100, 202800, 202900, 203500, 204100, 204500, 205000, 205300, 205600, 206000, 206699, 207000, 208775, 209100, 210000, 211500, 212800, 213120, 214000, 215000, 215300, 216000, 216200, 218000, 220000, 220110, 221300, 222640, 224000, 225000, 229998, 230000, 230400, 235000, 236000, 236600, 236900, 240000, 241000, 242000, 243225, 243900, 245000, 248700, 249260, 250000, 256000, 260000, 260500, 266400, 270000, 275000, 276000, 297500, 299000, 300000, 324000, 325000, 345600, 380000, 400000, 405000, 412000, 416000, 420000, 423000, 435000, 450000, 500000, 600000, 633000, 700000, 720000, 900000, 1000000, 1200000, 1250000, 1335000, 1400000, 1450000, 1600000, 1672000, 1799997, 1800000, 2100000, 2200000, 2250000, 2400000, 2500000, 3000000, 4000000, 4200000, 4450000, 4900000, 6000000, 7000000, 7500000, 8500000, 11000000, 30400000]\n"
     ]
    }
   ],
   "source": [
    "#salary which is paid to employees in ascending order \n",
    "sal=df.salary.unique()\n",
    "print(sorted(sal))"
   ]
  },
  {
   "cell_type": "code",
   "execution_count": 135,
   "metadata": {},
   "outputs": [
    {
     "data": {
      "text/plain": [
       "Data Scientist               344\n",
       "Data Engineer                320\n",
       "Data Analyst                 190\n",
       "Machine Learning Engineer     86\n",
       "Analytics Engineer            43\n",
       "                            ... \n",
       "Principal Data Architect       1\n",
       "Product Data Scientist         1\n",
       "Power BI Developer             1\n",
       "Data Science Lead              1\n",
       "Finance Data Analyst           1\n",
       "Name: job_title, Length: 64, dtype: int64"
      ]
     },
     "execution_count": 135,
     "metadata": {},
     "output_type": "execute_result"
    }
   ],
   "source": [
    "df[\"job_title\"].value_counts()\n",
    "#Data Scientist job is most preferred ones out of all."
   ]
  },
  {
   "cell_type": "code",
   "execution_count": 136,
   "metadata": {},
   "outputs": [
    {
     "data": {
      "text/plain": [
       "WFH       58.63\n",
       "WFO       30.93\n",
       "Hybrid    10.44\n",
       "Name: remote_ratio, dtype: float64"
      ]
     },
     "execution_count": 136,
     "metadata": {},
     "output_type": "execute_result"
    }
   ],
   "source": [
    "round(df.remote_ratio.value_counts()/len(df)*100,2)\n",
    "#Many of them are working from home then in office and least are in hybrid mode."
   ]
  },
  {
   "cell_type": "code",
   "execution_count": 137,
   "metadata": {},
   "outputs": [
    {
     "data": {
      "text/plain": [
       "Full-time    98.05\n",
       "Part-time     0.98\n",
       "Contract      0.60\n",
       "Freelance     0.38\n",
       "Name: employment_type, dtype: float64"
      ]
     },
     "execution_count": 137,
     "metadata": {},
     "output_type": "execute_result"
    }
   ],
   "source": [
    "round(df.employment_type.value_counts()/len(df)*100,2)\n",
    "#Many of the them are working for Full-time job."
   ]
  },
  {
   "cell_type": "code",
   "execution_count": 138,
   "metadata": {},
   "outputs": [
    {
     "data": {
      "text/html": [
       "<div>\n",
       "<style scoped>\n",
       "    .dataframe tbody tr th:only-of-type {\n",
       "        vertical-align: middle;\n",
       "    }\n",
       "\n",
       "    .dataframe tbody tr th {\n",
       "        vertical-align: top;\n",
       "    }\n",
       "\n",
       "    .dataframe thead th {\n",
       "        text-align: right;\n",
       "    }\n",
       "</style>\n",
       "<table border=\"1\" class=\"dataframe\">\n",
       "  <thead>\n",
       "    <tr style=\"text-align: right;\">\n",
       "      <th></th>\n",
       "      <th>work_year</th>\n",
       "      <th>experience_level</th>\n",
       "      <th>employment_type</th>\n",
       "      <th>job_title</th>\n",
       "      <th>salary</th>\n",
       "      <th>salary_currency</th>\n",
       "      <th>salary_in_usd</th>\n",
       "      <th>employee_residence</th>\n",
       "      <th>remote_ratio</th>\n",
       "      <th>company_location</th>\n",
       "      <th>company_size</th>\n",
       "    </tr>\n",
       "  </thead>\n",
       "  <tbody>\n",
       "    <tr>\n",
       "      <th>1242</th>\n",
       "      <td>2021</td>\n",
       "      <td>Intermediate</td>\n",
       "      <td>Full-time</td>\n",
       "      <td>Data Scientist</td>\n",
       "      <td>30400000</td>\n",
       "      <td>CLP</td>\n",
       "      <td>40038</td>\n",
       "      <td>CL</td>\n",
       "      <td>WFH</td>\n",
       "      <td>CL</td>\n",
       "      <td>Big Enterprise</td>\n",
       "    </tr>\n",
       "    <tr>\n",
       "      <th>1145</th>\n",
       "      <td>2021</td>\n",
       "      <td>Intermediate</td>\n",
       "      <td>Full-time</td>\n",
       "      <td>BI Data Analyst</td>\n",
       "      <td>11000000</td>\n",
       "      <td>HUF</td>\n",
       "      <td>36259</td>\n",
       "      <td>HU</td>\n",
       "      <td>Hybrid</td>\n",
       "      <td>US</td>\n",
       "      <td>Big Enterprise</td>\n",
       "    </tr>\n",
       "    <tr>\n",
       "      <th>1218</th>\n",
       "      <td>2020</td>\n",
       "      <td>Intermediate</td>\n",
       "      <td>Full-time</td>\n",
       "      <td>Data Scientist</td>\n",
       "      <td>11000000</td>\n",
       "      <td>HUF</td>\n",
       "      <td>35735</td>\n",
       "      <td>HU</td>\n",
       "      <td>Hybrid</td>\n",
       "      <td>HU</td>\n",
       "      <td>Big Enterprise</td>\n",
       "    </tr>\n",
       "    <tr>\n",
       "      <th>1046</th>\n",
       "      <td>2021</td>\n",
       "      <td>Intermediate</td>\n",
       "      <td>Full-time</td>\n",
       "      <td>ML Engineer</td>\n",
       "      <td>8500000</td>\n",
       "      <td>JPY</td>\n",
       "      <td>77364</td>\n",
       "      <td>JP</td>\n",
       "      <td>Hybrid</td>\n",
       "      <td>JP</td>\n",
       "      <td>Startup</td>\n",
       "    </tr>\n",
       "    <tr>\n",
       "      <th>534</th>\n",
       "      <td>2022</td>\n",
       "      <td>Expert</td>\n",
       "      <td>Full-time</td>\n",
       "      <td>Lead Machine Learning Engineer</td>\n",
       "      <td>7500000</td>\n",
       "      <td>INR</td>\n",
       "      <td>96209</td>\n",
       "      <td>IN</td>\n",
       "      <td>Hybrid</td>\n",
       "      <td>IN</td>\n",
       "      <td>Big Enterprise</td>\n",
       "    </tr>\n",
       "    <tr>\n",
       "      <th>1047</th>\n",
       "      <td>2021</td>\n",
       "      <td>Intermediate</td>\n",
       "      <td>Full-time</td>\n",
       "      <td>ML Engineer</td>\n",
       "      <td>7000000</td>\n",
       "      <td>JPY</td>\n",
       "      <td>63711</td>\n",
       "      <td>JP</td>\n",
       "      <td>Hybrid</td>\n",
       "      <td>JP</td>\n",
       "      <td>Startup</td>\n",
       "    </tr>\n",
       "    <tr>\n",
       "      <th>1331</th>\n",
       "      <td>2021</td>\n",
       "      <td>Expert</td>\n",
       "      <td>Full-time</td>\n",
       "      <td>Data Science Manager</td>\n",
       "      <td>7000000</td>\n",
       "      <td>INR</td>\n",
       "      <td>94665</td>\n",
       "      <td>IN</td>\n",
       "      <td>Hybrid</td>\n",
       "      <td>IN</td>\n",
       "      <td>Big Enterprise</td>\n",
       "    </tr>\n",
       "    <tr>\n",
       "      <th>762</th>\n",
       "      <td>2022</td>\n",
       "      <td>Director</td>\n",
       "      <td>Full-time</td>\n",
       "      <td>Head of Machine Learning</td>\n",
       "      <td>6000000</td>\n",
       "      <td>INR</td>\n",
       "      <td>76967</td>\n",
       "      <td>IN</td>\n",
       "      <td>Hybrid</td>\n",
       "      <td>IN</td>\n",
       "      <td>Big Enterprise</td>\n",
       "    </tr>\n",
       "  </tbody>\n",
       "</table>\n",
       "</div>"
      ],
      "text/plain": [
       "      work_year experience_level employment_type  \\\n",
       "1242       2021     Intermediate       Full-time   \n",
       "1145       2021     Intermediate       Full-time   \n",
       "1218       2020     Intermediate       Full-time   \n",
       "1046       2021     Intermediate       Full-time   \n",
       "534        2022           Expert       Full-time   \n",
       "1047       2021     Intermediate       Full-time   \n",
       "1331       2021           Expert       Full-time   \n",
       "762        2022         Director       Full-time   \n",
       "\n",
       "                           job_title    salary salary_currency  salary_in_usd  \\\n",
       "1242                  Data Scientist  30400000             CLP          40038   \n",
       "1145                 BI Data Analyst  11000000             HUF          36259   \n",
       "1218                  Data Scientist  11000000             HUF          35735   \n",
       "1046                     ML Engineer   8500000             JPY          77364   \n",
       "534   Lead Machine Learning Engineer   7500000             INR          96209   \n",
       "1047                     ML Engineer   7000000             JPY          63711   \n",
       "1331            Data Science Manager   7000000             INR          94665   \n",
       "762         Head of Machine Learning   6000000             INR          76967   \n",
       "\n",
       "     employee_residence remote_ratio company_location    company_size  \n",
       "1242                 CL          WFH               CL  Big Enterprise  \n",
       "1145                 HU       Hybrid               US  Big Enterprise  \n",
       "1218                 HU       Hybrid               HU  Big Enterprise  \n",
       "1046                 JP       Hybrid               JP         Startup  \n",
       "534                  IN       Hybrid               IN  Big Enterprise  \n",
       "1047                 JP       Hybrid               JP         Startup  \n",
       "1331                 IN       Hybrid               IN  Big Enterprise  \n",
       "762                  IN       Hybrid               IN  Big Enterprise  "
      ]
     },
     "execution_count": 138,
     "metadata": {},
     "output_type": "execute_result"
    }
   ],
   "source": [
    "#filtering \n",
    "#Employees having salary greater than 5000000 in descending order\n",
    "\n",
    "\n",
    "df_highestSalaries=df[df['salary']>5000000].sort_values(by=['salary'],ascending=False)\n",
    "df_highestSalaries"
   ]
  },
  {
   "cell_type": "code",
   "execution_count": 139,
   "metadata": {},
   "outputs": [
    {
     "data": {
      "text/plain": [
       "(8, 11)"
      ]
     },
     "execution_count": 139,
     "metadata": {},
     "output_type": "execute_result"
    }
   ],
   "source": [
    "df_highestSalaries.shape"
   ]
  },
  {
   "cell_type": "code",
   "execution_count": 140,
   "metadata": {},
   "outputs": [
    {
     "data": {
      "text/plain": [
       "work_year              int64\n",
       "experience_level      object\n",
       "employment_type       object\n",
       "job_title             object\n",
       "salary                 int64\n",
       "salary_currency       object\n",
       "salary_in_usd          int64\n",
       "employee_residence    object\n",
       "remote_ratio          object\n",
       "company_location      object\n",
       "company_size          object\n",
       "dtype: object"
      ]
     },
     "execution_count": 140,
     "metadata": {},
     "output_type": "execute_result"
    }
   ],
   "source": [
    "df.dtypes"
   ]
  },
  {
   "cell_type": "code",
   "execution_count": 141,
   "metadata": {},
   "outputs": [
    {
     "name": "stdout",
     "output_type": "stream",
     "text": [
      "work_year                             2022\n",
      "experience_level                    Junior\n",
      "employment_type                  Part-time\n",
      "job_title             Staff Data Scientist\n",
      "salary                            30400000\n",
      "salary_currency                        USD\n",
      "salary_in_usd                       600000\n",
      "employee_residence                      VN\n",
      "remote_ratio                           WFO\n",
      "company_location                        VN\n",
      "company_size                       Startup\n",
      "dtype: object\n",
      "\n",
      "work_year                                      2020\n",
      "experience_level                           Director\n",
      "employment_type                            Contract\n",
      "job_title             3D Computer Vision Researcher\n",
      "salary                                         2324\n",
      "salary_currency                                 AUD\n",
      "salary_in_usd                                  2324\n",
      "employee_residence                               AE\n",
      "remote_ratio                                 Hybrid\n",
      "company_location                                 AE\n",
      "company_size                         Big Enterprise\n",
      "dtype: object\n"
     ]
    }
   ],
   "source": [
    "print(df.max())\n",
    "#highest paid salary is to Staff Data Scentist role\n",
    "print()\n",
    "print(df.min())\n",
    "#minimum paid salary is to 3D Computer Vision Researcher role "
   ]
  },
  {
   "cell_type": "code",
   "execution_count": 142,
   "metadata": {},
   "outputs": [
    {
     "name": "stdout",
     "output_type": "stream",
     "text": [
      "job_title\n",
      "3D Computer Vision Researcher          5409\n",
      "Power BI Developer                     5409\n",
      "Product Data Scientist                 8000\n",
      "Machine Learning Research Engineer    20000\n",
      "Principal Data Architect              38483\n",
      "Name: salary_in_usd, dtype: int64 \n",
      "\n",
      " job_title\n",
      "Principal Data Scientist              416000\n",
      "Applied Machine Learning Scientist    423000\n",
      "Research Scientist                    450000\n",
      "Financial Data Analyst                450000\n",
      "Principal Data Engineer               600000\n",
      "Name: salary_in_usd, dtype: int64\n"
     ]
    }
   ],
   "source": [
    "#top 5 and bottom 5 salary from variable 'highestSalary'\n",
    "top5 = highestSalary[:5]\n",
    "bottom5 = highestSalary[-5:]\n",
    "print(top5, '\\n\\n', bottom5)"
   ]
  },
  {
   "cell_type": "code",
   "execution_count": 143,
   "metadata": {
    "scrolled": true
   },
   "outputs": [
    {
     "name": "stderr",
     "output_type": "stream",
     "text": [
      "C:\\Users\\HP\\AppData\\Roaming\\Python\\Python37\\site-packages\\seaborn\\distributions.py:2619: FutureWarning: `distplot` is a deprecated function and will be removed in a future version. Please adapt your code to use either `displot` (a figure-level function with similar flexibility) or `histplot` (an axes-level function for histograms).\n",
      "  warnings.warn(msg, FutureWarning)\n"
     ]
    },
    {
     "data": {
      "text/plain": [
       "<AxesSubplot:xlabel='salary_in_usd', ylabel='Density'>"
      ]
     },
     "execution_count": 143,
     "metadata": {},
     "output_type": "execute_result"
    },
    {
     "data": {
      "image/png": "[encoded data removed]",
      "text/plain": [
       "<Figure size 432x288 with 1 Axes>"
      ]
     },
     "metadata": {
      "needs_background": "light"
     },
     "output_type": "display_data"
    }
   ],
   "source": [
    "#distribution plot\n",
    "sns.distplot(df.salary_in_usd)"
   ]
  },
  {
   "cell_type": "code",
   "execution_count": 144,
   "metadata": {},
   "outputs": [
    {
     "name": "stderr",
     "output_type": "stream",
     "text": [
      "C:\\Users\\HP\\AppData\\Roaming\\Python\\Python37\\site-packages\\seaborn\\distributions.py:2619: FutureWarning: `distplot` is a deprecated function and will be removed in a future version. Please adapt your code to use either `displot` (a figure-level function with similar flexibility) or `histplot` (an axes-level function for histograms).\n",
      "  warnings.warn(msg, FutureWarning)\n"
     ]
    },
    {
     "data": {
      "text/plain": [
       "<AxesSubplot:xlabel='salary', ylabel='Density'>"
      ]
     },
     "execution_count": 144,
     "metadata": {},
     "output_type": "execute_result"
    },
    {
     "data": {
      "image/png": "[encoded data removed]",
      "text/plain": [
       "<Figure size 432x288 with 1 Axes>"
      ]
     },
     "metadata": {
      "needs_background": "light"
     },
     "output_type": "display_data"
    }
   ],
   "source": [
    "#distribution of salary \n",
    "sns.distplot(df.salary)"
   ]
  },
  {
   "cell_type": "code",
   "execution_count": 145,
   "metadata": {
    "scrolled": true
   },
   "outputs": [
    {
     "data": {
      "text/plain": [
       "(array([0, 1, 2, 3]),\n",
       " [Text(0, 0, 'Intermediate'),\n",
       "  Text(1, 0, 'Expert'),\n",
       "  Text(2, 0, 'Director'),\n",
       "  Text(3, 0, 'Junior')])"
      ]
     },
     "execution_count": 145,
     "metadata": {},
     "output_type": "execute_result"
    },
    {
     "data": {
      "image/png": "[encoded data removed]",
      "text/plain": [
       "<Figure size 432x288 with 1 Axes>"
      ]
     },
     "metadata": {
      "needs_background": "light"
     },
     "output_type": "display_data"
    }
   ],
   "source": [
    "#to display experience level in countplot\n",
    "sns.countplot(x='experience_level',data=df,palette='Set1')\n",
    "plt.xticks(rotation=80)"
   ]
  },
  {
   "cell_type": "code",
   "execution_count": 146,
   "metadata": {},
   "outputs": [
    {
     "data": {
      "text/plain": [
       "(array([0, 1, 2]),\n",
       " [Text(0, 0, 'Medium'), Text(1, 0, 'Big Enterprise'), Text(2, 0, 'Startup')])"
      ]
     },
     "execution_count": 146,
     "metadata": {},
     "output_type": "execute_result"
    },
    {
     "data": {
      "image/png": "[encoded data removed]",
      "text/plain": [
       "<Figure size 432x288 with 1 Axes>"
      ]
     },
     "metadata": {
      "needs_background": "light"
     },
     "output_type": "display_data"
    }
   ],
   "source": [
    "#to display company_size in countplot\n",
    "sns.countplot(x='company_size',data=df,palette='Set1')\n",
    "plt.xticks(rotation=80)"
   ]
  },
  {
   "cell_type": "code",
   "execution_count": 147,
   "metadata": {},
   "outputs": [
    {
     "data": {
      "text/plain": [
       "(array([ 0,  1,  2,  3,  4,  5,  6,  7,  8,  9, 10, 11, 12, 13, 14, 15, 16,\n",
       "        17, 18, 19, 20, 21, 22, 23, 24, 25, 26, 27, 28, 29, 30, 31, 32, 33,\n",
       "        34, 35, 36, 37, 38, 39, 40, 41, 42, 43, 44, 45, 46, 47, 48, 49, 50,\n",
       "        51, 52, 53, 54, 55, 56, 57, 58, 59, 60, 61, 62, 63]),\n",
       " [Text(0, 0, 'Machine Learning Engineer'),\n",
       "  Text(1, 0, 'Data Scientist'),\n",
       "  Text(2, 0, 'Data Engineer'),\n",
       "  Text(3, 0, 'Head of Data'),\n",
       "  Text(4, 0, 'Data Analyst'),\n",
       "  Text(5, 0, 'BI Analyst'),\n",
       "  Text(6, 0, 'Analytics Engineer'),\n",
       "  Text(7, 0, 'Research Engineer'),\n",
       "  Text(8, 0, 'Data Operations Analyst'),\n",
       "  Text(9, 0, 'ML Engineer'),\n",
       "  Text(10, 0, 'Data Architect'),\n",
       "  Text(11, 0, 'Data Operations Engineer'),\n",
       "  Text(12, 0, '3D Computer Vision Researcher'),\n",
       "  Text(13, 0, 'Marketing Data Analyst'),\n",
       "  Text(14, 0, 'Data Science Lead'),\n",
       "  Text(15, 0, 'Power BI Developer'),\n",
       "  Text(16, 0, 'Product Data Scientist'),\n",
       "  Text(17, 0, 'Data Science Consultant'),\n",
       "  Text(18, 0, 'Data Manager'),\n",
       "  Text(19, 0, 'BI Data Analyst'),\n",
       "  Text(20, 0, 'Big Data Engineer'),\n",
       "  Text(21, 0, 'Principal Data Architect'),\n",
       "  Text(22, 0, 'Machine Learning Manager'),\n",
       "  Text(23, 0, 'Applied Scientist'),\n",
       "  Text(24, 0, 'Lead Data Scientist'),\n",
       "  Text(25, 0, 'Lead Machine Learning Engineer'),\n",
       "  Text(26, 0, 'NLP Engineer'),\n",
       "  Text(27, 0, 'Research Scientist'),\n",
       "  Text(28, 0, 'Data Analytics Engineer'),\n",
       "  Text(29, 0, 'ETL Developer'),\n",
       "  Text(30, 0, 'AI Scientist'),\n",
       "  Text(31, 0, 'Data Scientist Lead'),\n",
       "  Text(32, 0, 'Data Science Manager'),\n",
       "  Text(33, 0, 'Data Specialist'),\n",
       "  Text(34, 0, 'Business Data Analyst'),\n",
       "  Text(35, 0, 'Applied Machine Learning Scientist'),\n",
       "  Text(36, 0, 'Machine Learning Research Engineer'),\n",
       "  Text(37, 0, 'Machine Learning Scientist'),\n",
       "  Text(38, 0, 'Machine Learning Developer'),\n",
       "  Text(39, 0, 'Data Engineering Manager'),\n",
       "  Text(40, 0, 'Director of Data Science'),\n",
       "  Text(41, 0, 'Financial Data Analyst'),\n",
       "  Text(42, 0, 'Computer Vision Software Engineer'),\n",
       "  Text(43, 0, 'Data Analytics Consultant'),\n",
       "  Text(44, 0, 'Product Data Analyst'),\n",
       "  Text(45, 0, 'Machine Learning Infrastructure Engineer'),\n",
       "  Text(46, 0, 'Applied Data Scientist'),\n",
       "  Text(47, 0, 'Cloud Data Architect'),\n",
       "  Text(48, 0, 'Data Analytics Manager'),\n",
       "  Text(49, 0, 'Lead Data Engineer'),\n",
       "  Text(50, 0, 'Head of Machine Learning'),\n",
       "  Text(51, 0, 'Data Science Engineer'),\n",
       "  Text(52, 0, 'Head of Data Science'),\n",
       "  Text(53, 0, 'Computer Vision Engineer'),\n",
       "  Text(54, 0, 'Principal Data Analyst'),\n",
       "  Text(55, 0, 'Data Analytics Lead'),\n",
       "  Text(56, 0, 'Principal Data Scientist'),\n",
       "  Text(57, 0, 'Principal Data Engineer'),\n",
       "  Text(58, 0, 'Lead Data Analyst'),\n",
       "  Text(59, 0, 'Director of Data Engineering'),\n",
       "  Text(60, 0, 'Cloud Data Engineer'),\n",
       "  Text(61, 0, 'Big Data Architect'),\n",
       "  Text(62, 0, 'Staff Data Scientist'),\n",
       "  Text(63, 0, 'Finance Data Analyst')])"
      ]
     },
     "execution_count": 147,
     "metadata": {},
     "output_type": "execute_result"
    },
    {
     "data": {
      "image/png": "[encoded data removed]",
      "text/plain": [
       "<Figure size 432x288 with 1 Axes>"
      ]
     },
     "metadata": {
      "needs_background": "light"
     },
     "output_type": "display_data"
    }
   ],
   "source": [
    "#to display various job title in a barplot\n",
    "sns.barplot(x=\"job_title\",y=\"salary\",data=df,estimator=np.sum)\n",
    "plt.xticks(rotation=90)"
   ]
  },
  {
   "cell_type": "code",
   "execution_count": 148,
   "metadata": {},
   "outputs": [
    {
     "data": {
      "text/plain": [
       "<AxesSubplot:>"
      ]
     },
     "execution_count": 148,
     "metadata": {},
     "output_type": "execute_result"
    },
    {
     "data": {
      "image/png": "[encoded data removed]",
      "text/plain": [
       "<Figure size 432x288 with 1 Axes>"
      ]
     },
     "metadata": {
      "needs_background": "light"
     },
     "output_type": "display_data"
    }
   ],
   "source": [
    "#to display a numerical column in a boxplot\n",
    "sns.boxplot(data=df)"
   ]
  },
  {
   "cell_type": "code",
   "execution_count": 149,
   "metadata": {},
   "outputs": [
    {
     "data": {
      "text/plain": [
       "<seaborn.axisgrid.FacetGrid at 0x27a97642d88>"
      ]
     },
     "execution_count": 149,
     "metadata": {},
     "output_type": "execute_result"
    },
    {
     "data": {
      "image/png": "[encoded data removed]",
      "text/plain": [
       "<Figure size 360x360 with 1 Axes>"
      ]
     },
     "metadata": {
      "needs_background": "light"
     },
     "output_type": "display_data"
    }
   ],
   "source": [
    "#graphical representation of company_size in a catplot\n",
    "sns.catplot(data=df,x='company_size',y='salary')"
   ]
  },
  {
   "cell_type": "code",
   "execution_count": 156,
   "metadata": {},
   "outputs": [
    {
     "data": {
      "text/html": [
       "<div>\n",
       "<style scoped>\n",
       "    .dataframe tbody tr th:only-of-type {\n",
       "        vertical-align: middle;\n",
       "    }\n",
       "\n",
       "    .dataframe tbody tr th {\n",
       "        vertical-align: top;\n",
       "    }\n",
       "\n",
       "    .dataframe thead th {\n",
       "        text-align: right;\n",
       "    }\n",
       "</style>\n",
       "<table border=\"1\" class=\"dataframe\">\n",
       "  <thead>\n",
       "    <tr style=\"text-align: right;\">\n",
       "      <th></th>\n",
       "      <th>work_year</th>\n",
       "      <th>experience_level</th>\n",
       "      <th>employment_type</th>\n",
       "      <th>job_title</th>\n",
       "      <th>salary</th>\n",
       "      <th>salary_currency</th>\n",
       "      <th>salary_in_usd</th>\n",
       "      <th>employee_residence</th>\n",
       "      <th>remote_ratio</th>\n",
       "      <th>company_location</th>\n",
       "      <th>company_size</th>\n",
       "    </tr>\n",
       "  </thead>\n",
       "  <tbody>\n",
       "    <tr>\n",
       "      <th>1242</th>\n",
       "      <td>2021</td>\n",
       "      <td>Intermediate</td>\n",
       "      <td>Full-time</td>\n",
       "      <td>Data Scientist</td>\n",
       "      <td>30400000</td>\n",
       "      <td>CLP</td>\n",
       "      <td>40038</td>\n",
       "      <td>CL</td>\n",
       "      <td>WFH</td>\n",
       "      <td>CL</td>\n",
       "      <td>Big Enterprise</td>\n",
       "    </tr>\n",
       "    <tr>\n",
       "      <th>1145</th>\n",
       "      <td>2021</td>\n",
       "      <td>Intermediate</td>\n",
       "      <td>Full-time</td>\n",
       "      <td>BI Data Analyst</td>\n",
       "      <td>11000000</td>\n",
       "      <td>HUF</td>\n",
       "      <td>36259</td>\n",
       "      <td>HU</td>\n",
       "      <td>Hybrid</td>\n",
       "      <td>US</td>\n",
       "      <td>Big Enterprise</td>\n",
       "    </tr>\n",
       "    <tr>\n",
       "      <th>1218</th>\n",
       "      <td>2020</td>\n",
       "      <td>Intermediate</td>\n",
       "      <td>Full-time</td>\n",
       "      <td>Data Scientist</td>\n",
       "      <td>11000000</td>\n",
       "      <td>HUF</td>\n",
       "      <td>35735</td>\n",
       "      <td>HU</td>\n",
       "      <td>Hybrid</td>\n",
       "      <td>HU</td>\n",
       "      <td>Big Enterprise</td>\n",
       "    </tr>\n",
       "    <tr>\n",
       "      <th>1046</th>\n",
       "      <td>2021</td>\n",
       "      <td>Intermediate</td>\n",
       "      <td>Full-time</td>\n",
       "      <td>ML Engineer</td>\n",
       "      <td>8500000</td>\n",
       "      <td>JPY</td>\n",
       "      <td>77364</td>\n",
       "      <td>JP</td>\n",
       "      <td>Hybrid</td>\n",
       "      <td>JP</td>\n",
       "      <td>Startup</td>\n",
       "    </tr>\n",
       "    <tr>\n",
       "      <th>534</th>\n",
       "      <td>2022</td>\n",
       "      <td>Expert</td>\n",
       "      <td>Full-time</td>\n",
       "      <td>Lead Machine Learning Engineer</td>\n",
       "      <td>7500000</td>\n",
       "      <td>INR</td>\n",
       "      <td>96209</td>\n",
       "      <td>IN</td>\n",
       "      <td>Hybrid</td>\n",
       "      <td>IN</td>\n",
       "      <td>Big Enterprise</td>\n",
       "    </tr>\n",
       "  </tbody>\n",
       "</table>\n",
       "</div>"
      ],
      "text/plain": [
       "      work_year experience_level employment_type  \\\n",
       "1242       2021     Intermediate       Full-time   \n",
       "1145       2021     Intermediate       Full-time   \n",
       "1218       2020     Intermediate       Full-time   \n",
       "1046       2021     Intermediate       Full-time   \n",
       "534        2022           Expert       Full-time   \n",
       "\n",
       "                           job_title    salary salary_currency  salary_in_usd  \\\n",
       "1242                  Data Scientist  30400000             CLP          40038   \n",
       "1145                 BI Data Analyst  11000000             HUF          36259   \n",
       "1218                  Data Scientist  11000000             HUF          35735   \n",
       "1046                     ML Engineer   8500000             JPY          77364   \n",
       "534   Lead Machine Learning Engineer   7500000             INR          96209   \n",
       "\n",
       "     employee_residence remote_ratio company_location    company_size  \n",
       "1242                 CL          WFH               CL  Big Enterprise  \n",
       "1145                 HU       Hybrid               US  Big Enterprise  \n",
       "1218                 HU       Hybrid               HU  Big Enterprise  \n",
       "1046                 JP       Hybrid               JP         Startup  \n",
       "534                  IN       Hybrid               IN  Big Enterprise  "
      ]
     },
     "execution_count": 156,
     "metadata": {},
     "output_type": "execute_result"
    }
   ],
   "source": [
    "#top 5 salary \n",
    "top=df.nlargest(5, ['salary'])\n",
    "top"
   ]
  },
  {
   "cell_type": "code",
   "execution_count": 162,
   "metadata": {},
   "outputs": [
    {
     "data": {
      "image/png": "[encoded data removed]",
      "text/plain": [
       "<Figure size 432x288 with 1 Axes>"
      ]
     },
     "metadata": {},
     "output_type": "display_data"
    }
   ],
   "source": [
    "#representing highest earners fron the dataset in a piechart\n",
    "import matplotlib.pyplot as plt\n",
    "\n",
    "# Data to be represented\n",
    "labels = ['Data Scientist', 'BI Data Analyst', 'Data Scientist', 'ML Engineer','Lead Machine Learning Engineer']\n",
    "sizes = [30400000,11000000 ,11000000 ,8500000 ,7500000]\n",
    "\n",
    "# Plotting the pie chart\n",
    "plt.pie(sizes, labels=labels, autopct='%1.1f%%')\n",
    "plt.axis('equal')\n",
    "plt.show()"
   ]
  },
  {
   "cell_type": "code",
   "execution_count": 151,
   "metadata": {},
   "outputs": [
    {
     "data": {
      "text/html": [
       "<div>\n",
       "<style scoped>\n",
       "    .dataframe tbody tr th:only-of-type {\n",
       "        vertical-align: middle;\n",
       "    }\n",
       "\n",
       "    .dataframe tbody tr th {\n",
       "        vertical-align: top;\n",
       "    }\n",
       "\n",
       "    .dataframe thead th {\n",
       "        text-align: right;\n",
       "    }\n",
       "</style>\n",
       "<table border=\"1\" class=\"dataframe\">\n",
       "  <thead>\n",
       "    <tr style=\"text-align: right;\">\n",
       "      <th></th>\n",
       "      <th>work_year</th>\n",
       "      <th>experience_level</th>\n",
       "      <th>employment_type</th>\n",
       "      <th>job_title</th>\n",
       "      <th>salary</th>\n",
       "      <th>salary_currency</th>\n",
       "      <th>salary_in_usd</th>\n",
       "      <th>employee_residence</th>\n",
       "      <th>remote_ratio</th>\n",
       "      <th>company_location</th>\n",
       "      <th>company_size</th>\n",
       "    </tr>\n",
       "  </thead>\n",
       "  <tbody>\n",
       "    <tr>\n",
       "      <th>510</th>\n",
       "      <td>2022</td>\n",
       "      <td>Junior</td>\n",
       "      <td>Full-time</td>\n",
       "      <td>3D Computer Vision Researcher</td>\n",
       "      <td>2324</td>\n",
       "      <td>USD</td>\n",
       "      <td>2324</td>\n",
       "      <td>AX</td>\n",
       "      <td>WFO</td>\n",
       "      <td>AL</td>\n",
       "      <td>Big Enterprise</td>\n",
       "    </tr>\n",
       "    <tr>\n",
       "      <th>1234</th>\n",
       "      <td>2021</td>\n",
       "      <td>Intermediate</td>\n",
       "      <td>Full-time</td>\n",
       "      <td>Data Engineer</td>\n",
       "      <td>4000</td>\n",
       "      <td>USD</td>\n",
       "      <td>4000</td>\n",
       "      <td>IR</td>\n",
       "      <td>WFH</td>\n",
       "      <td>IR</td>\n",
       "      <td>Medium</td>\n",
       "    </tr>\n",
       "    <tr>\n",
       "      <th>1305</th>\n",
       "      <td>2021</td>\n",
       "      <td>Junior</td>\n",
       "      <td>Full-time</td>\n",
       "      <td>Data Scientist</td>\n",
       "      <td>4000</td>\n",
       "      <td>USD</td>\n",
       "      <td>4000</td>\n",
       "      <td>VN</td>\n",
       "      <td>WFO</td>\n",
       "      <td>VN</td>\n",
       "      <td>Medium</td>\n",
       "    </tr>\n",
       "    <tr>\n",
       "      <th>112</th>\n",
       "      <td>2021</td>\n",
       "      <td>Expert</td>\n",
       "      <td>Full-time</td>\n",
       "      <td>3D Computer Vision Researcher</td>\n",
       "      <td>5000</td>\n",
       "      <td>USD</td>\n",
       "      <td>5000</td>\n",
       "      <td>US</td>\n",
       "      <td>WFH</td>\n",
       "      <td>US</td>\n",
       "      <td>Big Enterprise</td>\n",
       "    </tr>\n",
       "    <tr>\n",
       "      <th>500</th>\n",
       "      <td>2022</td>\n",
       "      <td>Intermediate</td>\n",
       "      <td>Contract</td>\n",
       "      <td>Analytics Engineer</td>\n",
       "      <td>7500</td>\n",
       "      <td>USD</td>\n",
       "      <td>7500</td>\n",
       "      <td>BO</td>\n",
       "      <td>Hybrid</td>\n",
       "      <td>BO</td>\n",
       "      <td>Medium</td>\n",
       "    </tr>\n",
       "  </tbody>\n",
       "</table>\n",
       "</div>"
      ],
      "text/plain": [
       "      work_year experience_level employment_type  \\\n",
       "510        2022           Junior       Full-time   \n",
       "1234       2021     Intermediate       Full-time   \n",
       "1305       2021           Junior       Full-time   \n",
       "112        2021           Expert       Full-time   \n",
       "500        2022     Intermediate        Contract   \n",
       "\n",
       "                          job_title  salary salary_currency  salary_in_usd  \\\n",
       "510   3D Computer Vision Researcher    2324             USD           2324   \n",
       "1234                  Data Engineer    4000             USD           4000   \n",
       "1305                 Data Scientist    4000             USD           4000   \n",
       "112   3D Computer Vision Researcher    5000             USD           5000   \n",
       "500              Analytics Engineer    7500             USD           7500   \n",
       "\n",
       "     employee_residence remote_ratio company_location    company_size  \n",
       "510                  AX          WFO               AL  Big Enterprise  \n",
       "1234                 IR          WFH               IR          Medium  \n",
       "1305                 VN          WFO               VN          Medium  \n",
       "112                  US          WFH               US  Big Enterprise  \n",
       "500                  BO       Hybrid               BO          Medium  "
      ]
     },
     "execution_count": 151,
     "metadata": {},
     "output_type": "execute_result"
    }
   ],
   "source": [
    "#bottom 5 salary\n",
    "bottom=df.nsmallest(5, ['salary'])\n",
    "bottom"
   ]
  },
  {
   "cell_type": "code",
   "execution_count": 163,
   "metadata": {},
   "outputs": [
    {
     "data": {
      "image/png": "[encoded data removed]",
      "text/plain": [
       "<Figure size 432x288 with 1 Axes>"
      ]
     },
     "metadata": {},
     "output_type": "display_data"
    }
   ],
   "source": [
    "#representing lowest earners in a form of a piechart\n",
    "# Data to be represented\n",
    "labels = ['3D Computer Vision Researcher', 'Data Engineer', 'Data Scientist', '3D Computer Vision Researcher','Analytics Engineer']\n",
    "sizes = [2324,4000 ,4000 ,5000 ,7500]\n",
    "\n",
    "# Plotting the pie chart\n",
    "plt.pie(sizes, labels=labels, autopct='%1.1f%%')\n",
    "plt.axis('equal')\n",
    "plt.show()"
   ]
  },
  {
   "cell_type": "code",
   "execution_count": 152,
   "metadata": {},
   "outputs": [
    {
     "data": {
      "text/plain": [
       "<seaborn.axisgrid.FacetGrid at 0x27a97566448>"
      ]
     },
     "execution_count": 152,
     "metadata": {},
     "output_type": "execute_result"
    },
    {
     "data": {
      "image/png": "[encoded data removed]",
      "text/plain": [
       "<Figure size 453.555x360 with 1 Axes>"
      ]
     },
     "metadata": {
      "needs_background": "light"
     },
     "output_type": "display_data"
    }
   ],
   "source": [
    "#displaying experience level and salary by using categorical plot and hue(third parameter)as company size\n",
    "sns.catplot(data=df, x='experience_level',y='salary',hue='company_size')"
   ]
  },
  {
   "cell_type": "code",
   "execution_count": 153,
   "metadata": {},
   "outputs": [
    {
     "data": {
      "text/plain": [
       "<seaborn.axisgrid.FacetGrid at 0x27a97442ac8>"
      ]
     },
     "execution_count": 153,
     "metadata": {},
     "output_type": "execute_result"
    },
    {
     "data": {
      "image/png": "[encoded data removed]",
      "text/plain": [
       "<Figure size 448.29x360 with 1 Axes>"
      ]
     },
     "metadata": {
      "needs_background": "light"
     },
     "output_type": "display_data"
    }
   ],
   "source": [
    "#to display employment type and salary using hue as experience level\n",
    "sns.catplot(data=df, x=\"employment_type\", y=\"salary\", hue=\"experience_level\", kind=\"bar\")"
   ]
  },
  {
   "cell_type": "code",
   "execution_count": 154,
   "metadata": {},
   "outputs": [
    {
     "data": {
      "image/png": "[encoded data removed]",
      "text/plain": [
       "<Figure size 360x360 with 1 Axes>"
      ]
     },
     "metadata": {
      "needs_background": "light"
     },
     "output_type": "display_data"
    }
   ],
   "source": [
    "#displaying job title and its count in a form of graph \n",
    "sns.catplot(data=top, x=\"job_title\", kind=\"count\", palette=\"ch:.25\")\n",
    "sns.set_context(\"notebook\", font_scale=0.8)"
   ]
  },
  {
   "cell_type": "code",
   "execution_count": null,
   "metadata": {},
   "outputs": [],
   "source": []
  }
 ],
 "metadata": {
  "kernelspec": {
   "display_name": "Python 3",
   "language": "python",
   "name": "python3"
  },
  "language_info": {
   "codemirror_mode": {
    "name": "ipython",
    "version": 3
   },
   "file_extension": ".py",
   "mimetype": "text/x-python",
   "name": "python",
   "nbconvert_exporter": "python",
   "pygments_lexer": "ipython3",
   "version": "3.7.6"
  }
 },
 "nbformat": 4,
 "nbformat_minor": 4
}
